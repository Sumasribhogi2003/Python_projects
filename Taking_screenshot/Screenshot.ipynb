{
 "cells": [
  {
   "cell_type": "code",
   "execution_count": 3,
   "metadata": {},
   "outputs": [],
   "source": [
    "# Program to take screenshot \n",
    "\n",
    "import pyscreenshot \n",
    "\n",
    "# To capture the screen \n",
    "image = pyscreenshot.grab() \n",
    "\n",
    "# To display the captured screenshot \n",
    "image.show() \n",
    "\n",
    "# To save the screenshot \n",
    "image.save(\"1.png\") \n"
   ]
  },
  {
   "cell_type": "code",
   "execution_count": 7,
   "metadata": {},
   "outputs": [],
   "source": [
    "# Program for partial screenshot \n",
    "\n",
    "import pyscreenshot \n",
    "\n",
    "# im=pyscreenshot.grab(bbox=(x1,x2,y1,y2)) \n",
    "image = pyscreenshot.grab(bbox=(10, 10, 500, 500)) \n",
    "\n",
    "# To view the screenshot \n",
    "image.show() \n",
    "\n",
    "# To save the screenshot \n",
    "image.save(\"1.png\") \n"
   ]
  }
 ],
 "metadata": {
  "kernelspec": {
   "display_name": "Python 3",
   "language": "python",
   "name": "python3"
  },
  "language_info": {
   "codemirror_mode": {
    "name": "ipython",
    "version": 3
   },
   "file_extension": ".py",
   "mimetype": "text/x-python",
   "name": "python",
   "nbconvert_exporter": "python",
   "pygments_lexer": "ipython3",
   "version": "3.12.2"
  }
 },
 "nbformat": 4,
 "nbformat_minor": 2
}
