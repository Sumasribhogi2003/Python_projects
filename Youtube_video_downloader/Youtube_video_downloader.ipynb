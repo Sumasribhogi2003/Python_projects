{
 "cells": [
  {
   "cell_type": "code",
   "execution_count": 36,
   "metadata": {},
   "outputs": [
    {
     "ename": "",
     "evalue": "",
     "output_type": "error",
     "traceback": [
      "\u001b[1;31mThe Kernel crashed while executing code in the current cell or a previous cell. \n",
      "\u001b[1;31mPlease review the code in the cell(s) to identify a possible cause of the failure. \n",
      "\u001b[1;31mClick <a href='https://aka.ms/vscodeJupyterKernelCrash'>here</a> for more info. \n",
      "\u001b[1;31mView Jupyter <a href='command:jupyter.viewOutput'>log</a> for further details."
     ]
    }
   ],
   "source": [
    "from pytube import YouTube\n",
    "from tkinter import *\n",
    "import tkinter as tk\n",
    "\n",
    "# Create an instance of tkinter frame or window\n",
    "window = Tk()\n",
    "# Set the size of the tkinter window\n",
    "window.geometry(\"700x350\")\n",
    "window.title(\"Youtube Video Downloader\")  # give title to the window\n",
    "\n",
    "# Define the variables\n",
    "text = StringVar()\n",
    "res1 = IntVar()\n",
    "res2 = IntVar()\n",
    "res3 = IntVar()\n",
    "res = IntVar()\n",
    "\n",
    "# Create GUI elements\n",
    "Label(window, text=\"YOUTUBE VIDEO DOWNLOADER\", bg='grey', font=('Calibri 15')).pack()  # a label\n",
    "Label(window, text=\"Enter the link to download\", font=('Calibri 12')).pack()  # a label\n",
    "Entry(window, textvariable=text, width=50).pack()  # entry field\n",
    "\n",
    "# Creating checkboxes\n",
    "Checkbutton(window, text='360p', onvalue=18, offvalue=0, variable=res1).pack()\n",
    "Checkbutton(window, text='720p', onvalue=22, offvalue=0, variable=res2).pack()\n",
    "Checkbutton(window, text='1080p', onvalue=37, offvalue=0, variable=res3).pack()\n",
    "\n",
    "# Define the downloader function\n",
    "def downloader():\n",
    "    global res  # global variable\n",
    "    t = text.get()  # getting the value\n",
    "    video = YouTube(t)\n",
    "    \n",
    "    # Set res based on which checkbox is selected\n",
    "    if res1.get() == 18:\n",
    "        res = 18\n",
    "    elif res2.get() == 22:\n",
    "        res = 22\n",
    "    elif res3.get() == 37:\n",
    "        res = 37\n",
    "    else:\n",
    "        # Default resolution if none is selected\n",
    "        res = 18  # Default to 360p if no resolution is selected\n",
    "\n",
    "    video_streams = video.streams.filter(file_extension='mp4').get_by_itag(res)\n",
    "    video_streams.download(filename=\"Untitled\", output_path=\"path_to_save_video\")\n",
    "    Label(window, text=\"Downloaded Successfully\").pack()\n",
    "\n",
    "# Creating the download button\n",
    "Button(window, text=\"Download\", bg='green', command=downloader).pack()\n",
    "\n",
    "# Start the main loop\n",
    "window.mainloop()\n"
   ]
  }
 ],
 "metadata": {
  "kernelspec": {
   "display_name": "Python 3",
   "language": "python",
   "name": "python3"
  },
  "language_info": {
   "codemirror_mode": {
    "name": "ipython",
    "version": 3
   },
   "file_extension": ".py",
   "mimetype": "text/x-python",
   "name": "python",
   "nbconvert_exporter": "python",
   "pygments_lexer": "ipython3",
   "version": "3.12.2"
  }
 },
 "nbformat": 4,
 "nbformat_minor": 2
}
