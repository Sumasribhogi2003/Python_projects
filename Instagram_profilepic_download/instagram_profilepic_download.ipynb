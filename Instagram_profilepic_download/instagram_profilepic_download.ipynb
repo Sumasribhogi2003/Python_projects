{
 "cells": [
  {
   "cell_type": "code",
   "execution_count": 1,
   "metadata": {},
   "outputs": [
    {
     "name": "stdout",
     "output_type": "stream",
     "text": [
      "Stored ID 44010591776 for profile sumasri_bhogi.\n",
      "sumasri_bhogi\\2023-07-03_16-52-01_UTC_profile_pic.jpg \n"
     ]
    }
   ],
   "source": [
    "import instaloader\n",
    "\n",
    "ig = instaloader.Instaloader()\n",
    "dp = input(\"Enter Insta username : \")\n",
    "\n",
    "ig.download_profile(dp , profile_pic_only=True)\n"
   ]
  }
 ],
 "metadata": {
  "kernelspec": {
   "display_name": "Python 3",
   "language": "python",
   "name": "python3"
  },
  "language_info": {
   "codemirror_mode": {
    "name": "ipython",
    "version": 3
   },
   "file_extension": ".py",
   "mimetype": "text/x-python",
   "name": "python",
   "nbconvert_exporter": "python",
   "pygments_lexer": "ipython3",
   "version": "3.12.2"
  }
 },
 "nbformat": 4,
 "nbformat_minor": 2
}
